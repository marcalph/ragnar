{
 "cells": [
  {
   "cell_type": "code",
   "execution_count": 1,
   "id": "6e74682b",
   "metadata": {},
   "outputs": [
    {
     "name": "stderr",
     "output_type": "stream",
     "text": [
      "\u001b[36m\u001b[1mweave\u001b[0m: Please login to Weights & Biases (https://wandb.ai/) to continue...\n",
      "\u001b[34m\u001b[1mwandb\u001b[0m: Logging into wandb.ai. (Learn how to deploy a W&B server locally: https://wandb.me/wandb-server)\n",
      "\u001b[34m\u001b[1mwandb\u001b[0m: You can find your API key in your browser here: https://wandb.ai/authorize?ref=weave\n",
      "\u001b[34m\u001b[1mwandb\u001b[0m: Paste an API key from your profile and hit enter:\u001b[34m\u001b[1mwandb\u001b[0m: \u001b[33mWARNING\u001b[0m If you're specifying your api key in code, ensure this code is not shared publicly.\n",
      "\u001b[34m\u001b[1mwandb\u001b[0m: \u001b[33mWARNING\u001b[0m Consider setting the WANDB_API_KEY environment variable, or running `wandb login` from the command line.\n",
      "\u001b[34m\u001b[1mwandb\u001b[0m: No netrc file found, creating one.\n",
      "\u001b[34m\u001b[1mwandb\u001b[0m: Appending key for api.wandb.ai to your netrc file: /Users/marcalph/.netrc\n",
      "\u001b[34m\u001b[1mwandb\u001b[0m: Currently logged in as: \u001b[33mmarcalph\u001b[0m to \u001b[32mhttps://api.wandb.ai\u001b[0m. Use \u001b[1m`wandb login --relogin`\u001b[0m to force relogin\n",
      "/Users/marcalph/Projects/ragnar/.venv/lib/python3.12/site-packages/tqdm/auto.py:21: TqdmWarning: IProgress not found. Please update jupyter and ipywidgets. See https://ipywidgets.readthedocs.io/en/stable/user_install.html\n",
      "  from .autonotebook import tqdm as notebook_tqdm\n",
      "\u001b[36m\u001b[1mweave\u001b[0m: Logged in as Weights & Biases user: marcalph.\n",
      "\u001b[36m\u001b[1mweave\u001b[0m: View Weave data at https://wandb.ai/marcalph/rag-demo/weave\n"
     ]
    }
   ],
   "source": [
    "import weave\n",
    "weave_client = weave.init(\"rag-demo\")"
   ]
  },
  {
   "cell_type": "code",
   "execution_count": 2,
   "id": "52e64530",
   "metadata": {},
   "outputs": [],
   "source": [
    "import getpass\n",
    "import cohere\n",
    "cohere_client = cohere.ClientV2(\n",
    "    api_key=getpass.getpass(\"Please enter your COHERE_API_KEY\")\n",
    ")"
   ]
  },
  {
   "cell_type": "code",
   "execution_count": 3,
   "id": "da3851b6",
   "metadata": {},
   "outputs": [
    {
     "name": "stderr",
     "output_type": "stream",
     "text": [
      "\u001b[36m\u001b[1mweave\u001b[0m: Task failed: HTTPError: 403 Client Error: Forbidden for url: https://trace.wandb.ai/files/create\n",
      "\u001b[36m\u001b[1mweave\u001b[0m: 🍩 https://wandb.ai/marcalph/rag-demo/r/call/0197abdf-44b8-76ed-82eb-78ea15c2c8fb\n"
     ]
    }
   ],
   "source": [
    "response = cohere_client.chat(\n",
    "    messages=[\n",
    "        {\"role\": \"user\", \"content\": \"What is retrieval augmented generation (RAG)?\"}\n",
    "    ],\n",
    "    model=\"command-r-plus\",\n",
    "    temperature=0.1,\n",
    "    max_tokens=2000,\n",
    ")"
   ]
  },
  {
   "cell_type": "code",
   "execution_count": 15,
   "id": "990ca9d1",
   "metadata": {},
   "outputs": [
    {
     "name": "stdout",
     "output_type": "stream",
     "text": [
      "('Retrieval Augmented Generation (RAG) is a natural language processing (NLP) '\n",
      " 'technique that combines information retrieval and text generation to '\n",
      " 'generate responses or text based on retrieved relevant information from an '\n",
      " 'external source of knowledge.\\n'\n",
      " '\\n'\n",
      " \"Here's a more detailed explanation:\\n\"\n",
      " '1. Information Retrieval: RAG models utilize a separate information '\n",
      " 'retrieval system, often based on dense vector representations, to fetch '\n",
      " 'relevant documents or passages from a large corpus of text. This corpus can '\n",
      " 'be domain-specific or general, depending on the application. The retrieval '\n",
      " 'mechanism aims to identify the most pertinent information related to the '\n",
      " 'input or query.\\n'\n",
      " '2. Text Generation: Once the relevant information is retrieved, a language '\n",
      " 'generation model, typically based on transformer architectures like BERT or '\n",
      " 'GPT, takes both the input and the retrieved context as input to generate a '\n",
      " 'response. The generation model can leverage the additional context to '\n",
      " 'provide more informed, accurate, and coherent responses compared to '\n",
      " 'generating text solely based on the input.\\n'\n",
      " '\\n'\n",
      " 'The key advantage of RAG models is their ability to ground the generated '\n",
      " 'text in factual knowledge, reducing hallucinations or inaccurate statements '\n",
      " 'that might occur in purely generative models. By grounding the generation '\n",
      " 'process in retrieved evidence, RAG models can provide more reliable and '\n",
      " 'informative outputs, making them particularly useful for applications such '\n",
      " 'as question answering, dialogue systems, and data-driven text generation.\\n'\n",
      " '\\n'\n",
      " 'Some popular examples of RAG models include RAG-Seq and RAG-Token, which '\n",
      " 'were introduced by researchers at Facebook AI. These models have shown '\n",
      " 'improved performance on tasks like open-domain question answering by '\n",
      " 'leveraging large text corpora, such as Wikipedia, as their source of '\n",
      " 'external knowledge.')\n"
     ]
    }
   ],
   "source": [
    "from pprint import pformat\n",
    "print(pformat(response.message.content[0].text))"
   ]
  }
 ],
 "metadata": {
  "kernelspec": {
   "display_name": "ragnar",
   "language": "python",
   "name": "python3"
  },
  "language_info": {
   "codemirror_mode": {
    "name": "ipython",
    "version": 3
   },
   "file_extension": ".py",
   "mimetype": "text/x-python",
   "name": "python",
   "nbconvert_exporter": "python",
   "pygments_lexer": "ipython3",
   "version": "3.12.7"
  }
 },
 "nbformat": 4,
 "nbformat_minor": 5
}
